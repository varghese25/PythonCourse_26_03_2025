{
 "cells": [
  {
   "cell_type": "code",
   "execution_count": 3,
   "id": "2c6510ef-5c0b-450b-8049-48d3b8ea4740",
   "metadata": {},
   "outputs": [
    {
     "name": "stdout",
     "output_type": "stream",
     "text": [
      "3 4\n"
     ]
    }
   ],
   "source": [
    "# Dictorny\n",
    "\n",
    "dict1 = {'a': 1, 'b':2}\n",
    "dict2 = {'b': 3, 'c':4}\n",
    "dict3 = {'a': 5, 'd':6}\n",
    "\n",
    "result = dict1 | dict2 | dict3\n",
    "\n",
    "print(result['b'], result['c'])\n",
    "\n",
    "\n"
   ]
  }
 ],
 "metadata": {
  "kernelspec": {
   "display_name": "Python 3 (ipykernel)",
   "language": "python",
   "name": "python3"
  },
  "language_info": {
   "codemirror_mode": {
    "name": "ipython",
    "version": 3
   },
   "file_extension": ".py",
   "mimetype": "text/x-python",
   "name": "python",
   "nbconvert_exporter": "python",
   "pygments_lexer": "ipython3",
   "version": "3.13.2"
  }
 },
 "nbformat": 4,
 "nbformat_minor": 5
}
